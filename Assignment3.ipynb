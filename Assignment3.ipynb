{
  "nbformat": 4,
  "nbformat_minor": 0,
  "metadata": {
    "colab": {
      "provenance": [],
      "authorship_tag": "ABX9TyPB5hzSuaBIHeWocjnCU+wD",
      "include_colab_link": true
    },
    "kernelspec": {
      "name": "python3",
      "display_name": "Python 3"
    },
    "language_info": {
      "name": "python"
    }
  },
  "cells": [
    {
      "cell_type": "markdown",
      "metadata": {
        "id": "view-in-github",
        "colab_type": "text"
      },
      "source": [
        "<a href=\"https://colab.research.google.com/github/cxn10730/Assignment3/blob/main/Assignment3.ipynb\" target=\"_parent\"><img src=\"https://colab.research.google.com/assets/colab-badge.svg\" alt=\"Open In Colab\"/></a>"
      ]
    },
    {
      "cell_type": "markdown",
      "source": [
        "Using NumPy create random vector of size 15 having only Integers in the range 1-20.\n",
        "1. Reshape the array to 3 by 5\n",
        "2. Print array shape.\n",
        "3. Replace the max in each row by 0\n"
      ],
      "metadata": {
        "id": "FqwJ2X7wSGCZ"
      }
    },
    {
      "cell_type": "code",
      "execution_count": 73,
      "metadata": {
        "colab": {
          "base_uri": "https://localhost:8080/"
        },
        "id": "ErIxTCYO8u4E",
        "outputId": "a7cca748-8453-446e-a79b-6836c7ccbdc1"
      },
      "outputs": [
        {
          "output_type": "stream",
          "name": "stdout",
          "text": [
            "[0.29961307 0.40021845 0.00294745 0.51067733 0.83822911 0.12587704\n",
            " 0.35007207 0.07429516 0.25188622 0.36554037 0.50466884 0.02192656\n",
            " 0.5269125  0.0677587  0.7410107 ]\n",
            "[ 1.   2.3  3.6  4.9  6.2  7.5  8.8 10.1 11.4 12.7 14.  15.3 16.6 17.9\n",
            " 19.2]\n",
            "[[ 1.   2.3  3.6  4.9  6.2]\n",
            " [ 7.5  8.8 10.1 11.4 12.7]\n",
            " [14.  15.3 16.6 17.9 19.2]]\n",
            "(3, 5)\n",
            "[[ 1.   2.3  3.6  4.9  0. ]\n",
            " [ 7.5  8.8 10.1 11.4  0. ]\n",
            " [14.  15.3 16.6 17.9  0. ]]\n"
          ]
        }
      ],
      "source": [
        "import numpy as np;\n",
        "x = np.random.random(15);\n",
        "print(x);\n",
        "v = np.arange(1,20,1.3);\n",
        "print(v)\n",
        "y= np.reshape(v,(3,5))\n",
        "print(y)\n",
        "print(y.shape)\n",
        "y[np.arange(len(y)), y.argmax(1)] = 0\n",
        "print(y)\n"
      ]
    },
    {
      "cell_type": "markdown",
      "source": [
        "Create a 2-dimensional array of size 4 x 3 (composed of 4-byte integer elements), also print the shape, type and data type\n",
        "of the array"
      ],
      "metadata": {
        "id": "T4jRZtOOCVj0"
      }
    },
    {
      "cell_type": "code",
      "source": [
        "z=np.array([[1,2,3], [4,5,6], [7,8,9], [10,11,12]], dtype=np.int32)\n",
        "print(z)\n",
        "print(z.shape)\n",
        "print(type(z))\n",
        "print(z.dtype)"
      ],
      "metadata": {
        "colab": {
          "base_uri": "https://localhost:8080/"
        },
        "id": "JL4at6nFWVT0",
        "outputId": "f410608a-4dff-47fc-d5ec-43cb49877d4b"
      },
      "execution_count": 68,
      "outputs": [
        {
          "output_type": "stream",
          "name": "stdout",
          "text": [
            "[[ 1  2  3]\n",
            " [ 4  5  6]\n",
            " [ 7  8  9]\n",
            " [10 11 12]]\n",
            "(4, 3)\n",
            "<class 'numpy.ndarray'>\n",
            "int32\n"
          ]
        }
      ]
    },
    {
      "cell_type": "markdown",
      "source": [
        "Write a program to compute the eigenvalues and right eigenvectors of a given square array given below:\n",
        "[[ 3 -2]\n",
        "[ 1 0]]\n"
      ],
      "metadata": {
        "id": "gr6roADNFiC1"
      }
    },
    {
      "cell_type": "code",
      "source": [
        "from numpy import linalg as lin\n",
        "a = np.array([[3, -2], [1, 0]])\n",
        "print(\"Original matrix:\\n\", a)\n",
        "w, v = lin.eig(a) \n",
        "print( \"Eigenvalues of the matrix is\\n\",w)\n",
        "print( \"Eigenvectors of the matrix is\\n\",v);\n"
      ],
      "metadata": {
        "colab": {
          "base_uri": "https://localhost:8080/"
        },
        "id": "ZjSEpWb5_gFF",
        "outputId": "9f34ec6e-0e4e-4c44-fc73-607e10db9b73"
      },
      "execution_count": 69,
      "outputs": [
        {
          "output_type": "stream",
          "name": "stdout",
          "text": [
            "Original matrix:\n",
            " [[ 3 -2]\n",
            " [ 1  0]]\n",
            "Eigenvalues of the matrix is\n",
            " [2. 1.]\n",
            "Eigenvectors of the matrix is\n",
            " [[0.89442719 0.70710678]\n",
            " [0.4472136  0.70710678]]\n"
          ]
        }
      ]
    },
    {
      "cell_type": "markdown",
      "source": [
        "Compute the sum of the diagonal element of a given array.\n",
        "[[0 1 2]\n",
        "[3 4 5]]\n"
      ],
      "metadata": {
        "id": "raXTizDrI4Xq"
      }
    },
    {
      "cell_type": "code",
      "source": [
        "import numpy as np\n",
        "m = np.arange(6).reshape(2,3)\n",
        "print(m)\n",
        "sum =  np.trace(m)\n",
        "print(\"sum of diagonal elements in matrix is:\" , sum)"
      ],
      "metadata": {
        "colab": {
          "base_uri": "https://localhost:8080/"
        },
        "id": "jaacXGmzAmT2",
        "outputId": "a9f4e0a5-9e91-42c7-8cd6-f2135a7c0f14"
      },
      "execution_count": 70,
      "outputs": [
        {
          "output_type": "stream",
          "name": "stdout",
          "text": [
            "[[0 1 2]\n",
            " [3 4 5]]\n",
            "sum of diagonal elements in matrix is: 4\n"
          ]
        }
      ]
    },
    {
      "cell_type": "markdown",
      "source": [
        "Write a NumPy program to create a new shape to an array without changing its data.\n",
        "Reshape 3x2:\n",
        "[[1 2]\n",
        "[3 4]\n",
        "[5 6]]\n",
        "Reshape 2x3:\n",
        "[[1 2 3]\n",
        "[4 5 6]]\n"
      ],
      "metadata": {
        "id": "wbgHM3PKKSJW"
      }
    },
    {
      "cell_type": "code",
      "source": [
        "import numpy as np\n",
        "x = np.array([1, 2, 3, 4, 5, 6])\n",
        "y = np.reshape(x,(3,2))\n",
        "print(\"Reshape 3x2:\")\n",
        "print(y)\n",
        "z = np.reshape(x,(2,3))\n",
        "print(\"Reshape 2x3:\")\n",
        "print(z)"
      ],
      "metadata": {
        "colab": {
          "base_uri": "https://localhost:8080/"
        },
        "id": "-gjXV1LLGJ3a",
        "outputId": "795aadf6-a19a-491d-da79-b001284958ae"
      },
      "execution_count": 71,
      "outputs": [
        {
          "output_type": "stream",
          "name": "stdout",
          "text": [
            "Reshape 3x2:\n",
            "[[1 2]\n",
            " [3 4]\n",
            " [5 6]]\n",
            "Reshape 2x3:\n",
            "[[1 2 3]\n",
            " [4 5 6]]\n"
          ]
        }
      ]
    },
    {
      "cell_type": "markdown",
      "source": [
        "Programming languages: Java, Python, PHP, JavaScript, C#, C++\n",
        "Popularity: 22.2, 17.6, 8.8, 8, 7.7, 6.7"
      ],
      "metadata": {
        "id": "Y-I6IlpIM6bc"
      }
    },
    {
      "cell_type": "code",
      "source": [
        "from matplotlib import pyplot as pl\n",
        "Programming_languages = 'Java', 'Python', 'PHP', 'JavaScript', 'C#', 'C++'\n",
        "popularity = [22.2, 17.6, 8.8, 8, 7.7, 6.7]\n",
        "explode = (0.1, 0, 0, 0,0,0)  \n",
        "pl.pie(popularity, explode=explode, labels=Programming_languages, colors=colors,\n",
        "autopct='%1.1f%%', shadow=True, startangle=130)\n",
        "\n",
        "pl.show()\n"
      ],
      "metadata": {
        "colab": {
          "base_uri": "https://localhost:8080/",
          "height": 406
        },
        "id": "_oBs7TlQLSem",
        "outputId": "5d02bff5-9c70-49fb-f0d0-d96444f34abd"
      },
      "execution_count": 87,
      "outputs": [
        {
          "output_type": "display_data",
          "data": {
            "text/plain": [
              "<Figure size 640x480 with 1 Axes>"
            ],
            "image/png": "[encoded data removed]"
          },
          "metadata": {}
        }
      ]
    }
  ]
}